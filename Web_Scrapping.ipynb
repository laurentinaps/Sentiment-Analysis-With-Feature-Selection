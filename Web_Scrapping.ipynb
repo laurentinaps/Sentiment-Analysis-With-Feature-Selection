{
  "nbformat": 4,
  "nbformat_minor": 0,
  "metadata": {
    "colab": {
      "provenance": []
    },
    "kernelspec": {
      "name": "python3",
      "display_name": "Python 3"
    },
    "language_info": {
      "name": "python"
    }
  },
  "cells": [
    {
      "cell_type": "code",
      "source": [
        "! pip install google-play-scraper"
      ],
      "metadata": {
        "id": "btWcnXuRgC4n"
      },
      "execution_count": null,
      "outputs": []
    },
    {
      "cell_type": "code",
      "source": [
        "from google_play_scraper import app\n",
        "from google_play_scraper import Sort, reviews_all\n",
        "import pandas as pd\n",
        "import numpy as np"
      ],
      "metadata": {
        "id": "4c_1pz9Ff8WL"
      },
      "execution_count": null,
      "outputs": []
    },
    {
      "cell_type": "code",
      "execution_count": null,
      "metadata": {
        "id": "N-EzyomwfXOn"
      },
      "outputs": [],
      "source": [
        "myindihome_rvs=reviews_all(\n",
        "    'com.telkom.indihome.external',\n",
        "    sleep_milliseconds=0,\n",
        "    lang='id',\n",
        "    country='id',\n",
        "    sort=Sort.NEWEST,\n",
        ")"
      ]
    }
  ]
}